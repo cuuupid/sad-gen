{
 "cells": [
  {
   "cell_type": "code",
   "execution_count": null,
   "metadata": {},
   "outputs": [],
   "source": [
    "import json\n",
    "posts = json.load(open('posts.json'))\n",
    "len(posts), posts[0]"
   ]
  },
  {
   "cell_type": "code",
   "execution_count": null,
   "metadata": {},
   "outputs": [],
   "source": [
    "text = '\\n'.join(posts).lower()\n",
    "len(text)"
   ]
  },
  {
   "cell_type": "code",
   "execution_count": null,
   "metadata": {},
   "outputs": [],
   "source": [
    "characters = sorted(list(set(text)))\n",
    "char_lookup = characters.index\n",
    "len(characters)"
   ]
  },
  {
   "cell_type": "code",
   "execution_count": 30,
   "metadata": {},
   "outputs": [
    {
     "name": "stderr",
     "output_type": "stream",
     "text": [
      "100%|██████████| 147405/147405 [00:20<00:00, 7224.78it/s]\n"
     ]
    },
    {
     "data": {
      "text/plain": [
       "(147405, 147405)"
      ]
     },
     "execution_count": 30,
     "metadata": {},
     "output_type": "execute_result"
    }
   ],
   "source": [
    "from tqdm import tqdm\n",
    "\n",
    "maxlen = 100\n",
    "X, Y = [], []\n",
    "for i in tqdm(range(len(text) - maxlen)):\n",
    "    x = text[i:i+maxlen]\n",
    "    y = text[i+maxlen]\n",
    "    X.append([char_lookup(c) for c in x])\n",
    "    Y.append(char_lookup(y))\n",
    "len(X), len(Y)"
   ]
  },
  {
   "cell_type": "code",
   "execution_count": 31,
   "metadata": {},
   "outputs": [
    {
     "data": {
      "text/plain": [
       "((147405, 100), (147405, 776))"
      ]
     },
     "execution_count": 31,
     "metadata": {},
     "output_type": "execute_result"
    }
   ],
   "source": [
    "import numpy as np\n",
    "import keras.utils\n",
    "\n",
    "X = np.reshape(X, (len(X), maxlen)) / len(characters) # normalized seq input\n",
    "Y = keras.utils.to_categorical(Y)\n",
    "\n",
    "X.shape, Y.shape"
   ]
  },
  {
   "cell_type": "code",
   "execution_count": 25,
   "metadata": {
    "collapsed": true
   },
   "outputs": [],
   "source": [
    "from keras.models import Sequential\n",
    "from keras.layers import Embedding, LSTM, Dense, Flatten, Dropout"
   ]
  },
  {
   "cell_type": "code",
   "execution_count": 32,
   "metadata": {},
   "outputs": [
    {
     "name": "stdout",
     "output_type": "stream",
     "text": [
      "_________________________________________________________________\n",
      "Layer (type)                 Output Shape              Param #   \n",
      "=================================================================\n",
      "Embedding (Embedding)        (None, 100, 40)           31040     \n",
      "_________________________________________________________________\n",
      "LSTM (LSTM)                  (None, 256)               304128    \n",
      "_________________________________________________________________\n",
      "Dropout (Dropout)            (None, 256)               0         \n",
      "_________________________________________________________________\n",
      "FullyConnected (Dense)       (None, 776)               199432    \n",
      "=================================================================\n",
      "Total params: 534,600\n",
      "Trainable params: 534,600\n",
      "Non-trainable params: 0\n",
      "_________________________________________________________________\n",
      "None\n"
     ]
    }
   ],
   "source": [
    "model = Sequential()\n",
    "model.add(Embedding(len(characters), 40, input_length=maxlen, name=\"Embedding\"))\n",
    "model.add(LSTM(256, name=\"LSTM\"))\n",
    "model.add(Dropout(0.2, name=\"Dropout\"))\n",
    "model.add(Dense(len(characters), activation='softmax', name=\"FullyConnected\"))\n",
    "print(model.summary())\n",
    "model.compile(loss='categorical_crossentropy', optimizer='adam', metrics=['accuracy'])"
   ]
  },
  {
   "cell_type": "code",
   "execution_count": null,
   "metadata": {
    "scrolled": true
   },
   "outputs": [
    {
     "name": "stdout",
     "output_type": "stream",
     "text": [
      "Epoch 1/1\n",
      "142592/147405 [============================>.] - ETA: 21s - loss: 3.4439 - acc: 0.1677"
     ]
    }
   ],
   "source": [
    "model.fit(X, Y, epochs=1, batch_size=256, shuffle=True)"
   ]
  },
  {
   "cell_type": "code",
   "execution_count": null,
   "metadata": {
    "collapsed": true
   },
   "outputs": [],
   "source": []
  }
 ],
 "metadata": {
  "kernelspec": {
   "display_name": "Python 3",
   "language": "python",
   "name": "python3"
  },
  "language_info": {
   "codemirror_mode": {
    "name": "ipython",
    "version": 3
   },
   "file_extension": ".py",
   "mimetype": "text/x-python",
   "name": "python",
   "nbconvert_exporter": "python",
   "pygments_lexer": "ipython3",
   "version": "3.6.3"
  }
 },
 "nbformat": 4,
 "nbformat_minor": 2
}
