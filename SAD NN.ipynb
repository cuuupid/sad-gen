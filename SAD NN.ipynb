{
 "cells": [
  {
   "cell_type": "code",
   "execution_count": null,
   "metadata": {},
   "outputs": [],
   "source": [
    "import json\n",
    "posts = json.load(open('posts.json'))\n",
    "len(posts), posts[0]"
   ]
  },
  {
   "cell_type": "code",
   "execution_count": null,
   "metadata": {},
   "outputs": [],
   "source": [
    "text = '\\n'.join(posts).lower()\n",
    "len(text)"
   ]
  },
  {
   "cell_type": "code",
   "execution_count": null,
   "metadata": {},
   "outputs": [],
   "source": [
    "characters = sorted(list(set(text)))\n",
    "char_lookup = characters.index\n",
    "len(characters)"
   ]
  },
  {
   "cell_type": "code",
   "execution_count": null,
   "metadata": {},
   "outputs": [],
   "source": [
    "from tqdm import tqdm\n",
    "\n",
    "maxlen = 100\n",
    "X, Y = [], []\n",
    "for i in tqdm(range(len(text) - maxlen)):\n",
    "    x = text[i:i+maxlen]\n",
    "    y = text[i+maxlen]\n",
    "    X.append([char_lookup(c) for c in x])\n",
    "    Y.append(char_lookup(y))\n",
    "len(X), len(Y)"
   ]
  },
  {
   "cell_type": "code",
   "execution_count": null,
   "metadata": {},
   "outputs": [],
   "source": [
    "import numpy as np\n",
    "import keras.utils\n",
    "\n",
    "X = np.reshape(X, (len(X), maxlen)) / len(characters) # normalized seq input\n",
    "Y = keras.utils.to_categorical(Y)\n",
    "\n",
    "X.shape, Y.shape"
   ]
  },
  {
   "cell_type": "code",
   "execution_count": null,
   "metadata": {
    "collapsed": true
   },
   "outputs": [],
   "source": [
    "from keras.models import Sequential\n",
    "from keras.layers import Embedding, LSTM, Dense, Flatten, Dropout"
   ]
  },
  {
   "cell_type": "code",
   "execution_count": null,
   "metadata": {},
   "outputs": [],
   "source": [
    "model = Sequential()\n",
    "model.add(Embedding(len(characters), 40, input_length=maxlen, name=\"Embedding\"))\n",
    "model.add(LSTM(256, name=\"LSTM\"))\n",
    "model.add(Dropout(0.2, name=\"Dropout\"))\n",
    "model.add(Dense(len(characters), activation='softmax', name=\"FullyConnected\"))\n",
    "print(model.summary())\n",
    "model.compile(loss='categorical_crossentropy', optimizer='adam', metrics=['accuracy'])"
   ]
  },
  {
   "cell_type": "code",
   "execution_count": null,
   "metadata": {
    "scrolled": true
   },
   "outputs": [],
   "source": [
    "model.fit(X, Y, epochs=1, batch_size=256, shuffle=True)"
   ]
  },
  {
   "cell_type": "code",
   "execution_count": null,
   "metadata": {},
   "outputs": [],
   "source": [
    "char_reverse_lookup = characters.__getitem__\n",
    "char_reverse_lookup(0)"
   ]
  },
  {
   "cell_type": "code",
   "execution_count": null,
   "metadata": {},
   "outputs": [],
   "source": [
    "def __make_sentence__(length=420):\n",
    "    seq = X[np.random.randint(0, len(X))].copy().tolist()\n",
    "    ret = ''.join([char_reverse_lookup(int(i)) for i in seq])\n",
    "    for i in tqdm(range(length)):\n",
    "        xhat = np.reshape(seq, (-1, 100)) / len(seq)\n",
    "        yhat = model.predict(xhat)\n",
    "        result = char_reverse_lookup(np.argmax(yhat))\n",
    "        ret += result\n",
    "        seq = seq[1:]\n",
    "        seq.append(np.argmax(yhat))\n",
    "    return ret\n",
    "\n",
    "model.make_sentence = __make_sentence__\n",
    "\n",
    "model.make_sentence()"
   ]
  },
  {
   "cell_type": "code",
   "execution_count": null,
   "metadata": {},
   "outputs": [],
   "source": [
    "model.fit(X, Y, epochs=50, batch_size=256, shuffle=True)"
   ]
  },
  {
   "cell_type": "code",
   "execution_count": null,
   "metadata": {
    "collapsed": true
   },
   "outputs": [],
   "source": []
  }
 ],
 "metadata": {
  "kernelspec": {
   "display_name": "Python 3",
   "language": "python",
   "name": "python3"
  },
  "language_info": {
   "codemirror_mode": {
    "name": "ipython",
    "version": 3
   },
   "file_extension": ".py",
   "mimetype": "text/x-python",
   "name": "python",
   "nbconvert_exporter": "python",
   "pygments_lexer": "ipython3",
   "version": "3.6.3"
  }
 },
 "nbformat": 4,
 "nbformat_minor": 2
}
